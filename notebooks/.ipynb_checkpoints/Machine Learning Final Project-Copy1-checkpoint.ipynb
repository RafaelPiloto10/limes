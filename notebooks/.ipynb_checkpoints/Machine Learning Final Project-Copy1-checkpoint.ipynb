{
 "cells": [
  {
   "cell_type": "code",
   "execution_count": 248,
   "id": "f516d2fe",
   "metadata": {},
   "outputs": [
    {
     "data": {
      "text/plain": [
       "sklearn.impute._base.SimpleImputer"
      ]
     },
     "execution_count": 248,
     "metadata": {},
     "output_type": "execute_result"
    }
   ],
   "source": [
    "import numpy as np\n",
    "import pandas as pd\n",
    "from sklearn.linear_model import LogisticRegression\n",
    "from sklearn.impute import SimpleImputer\n",
    "from sklearn.compose import ColumnTransformer\n",
    "from sklearn.preprocessing import OneHotEncoder\n",
    "from sklearn.metrics import accuracy_score\n",
    "SimpleImputer"
   ]
  },
  {
   "cell_type": "code",
   "execution_count": 381,
   "id": "a7bf245d",
   "metadata": {},
   "outputs": [],
   "source": [
    "data = pd.read_csv('../dataset/training.csv')\n",
    "# data = pd.read_csv('../dataset/car_kick.csv')"
   ]
  },
  {
   "cell_type": "code",
   "execution_count": 403,
   "id": "c463421a",
   "metadata": {
    "scrolled": true
   },
   "outputs": [
    {
     "data": {
      "text/html": [
       "<div>\n",
       "<style scoped>\n",
       "    .dataframe tbody tr th:only-of-type {\n",
       "        vertical-align: middle;\n",
       "    }\n",
       "\n",
       "    .dataframe tbody tr th {\n",
       "        vertical-align: top;\n",
       "    }\n",
       "\n",
       "    .dataframe thead th {\n",
       "        text-align: right;\n",
       "    }\n",
       "</style>\n",
       "<table border=\"1\" class=\"dataframe\">\n",
       "  <thead>\n",
       "    <tr style=\"text-align: right;\">\n",
       "      <th></th>\n",
       "      <th>RefId</th>\n",
       "      <th>IsBadBuy</th>\n",
       "      <th>PurchDate</th>\n",
       "      <th>Auction</th>\n",
       "      <th>VehYear</th>\n",
       "      <th>VehicleAge</th>\n",
       "      <th>Make</th>\n",
       "      <th>Model</th>\n",
       "      <th>Trim</th>\n",
       "      <th>SubModel</th>\n",
       "      <th>...</th>\n",
       "      <th>MMRCurrentRetailAveragePrice</th>\n",
       "      <th>MMRCurrentRetailCleanPrice</th>\n",
       "      <th>PRIMEUNIT</th>\n",
       "      <th>AUCGUART</th>\n",
       "      <th>BYRNO</th>\n",
       "      <th>VNZIP1</th>\n",
       "      <th>VNST</th>\n",
       "      <th>VehBCost</th>\n",
       "      <th>IsOnlineSale</th>\n",
       "      <th>WarrantyCost</th>\n",
       "    </tr>\n",
       "  </thead>\n",
       "  <tbody>\n",
       "    <tr>\n",
       "      <th>0</th>\n",
       "      <td>1</td>\n",
       "      <td>0</td>\n",
       "      <td>12/7/2009</td>\n",
       "      <td>ADESA</td>\n",
       "      <td>2006</td>\n",
       "      <td>3</td>\n",
       "      <td>MAZDA</td>\n",
       "      <td>MAZDA3</td>\n",
       "      <td>i</td>\n",
       "      <td>4D SEDAN I</td>\n",
       "      <td>...</td>\n",
       "      <td>11597.0</td>\n",
       "      <td>12409.0</td>\n",
       "      <td>NaN</td>\n",
       "      <td>NaN</td>\n",
       "      <td>21973</td>\n",
       "      <td>33619</td>\n",
       "      <td>FL</td>\n",
       "      <td>7100.0</td>\n",
       "      <td>0</td>\n",
       "      <td>1113</td>\n",
       "    </tr>\n",
       "    <tr>\n",
       "      <th>1</th>\n",
       "      <td>2</td>\n",
       "      <td>0</td>\n",
       "      <td>12/7/2009</td>\n",
       "      <td>ADESA</td>\n",
       "      <td>2004</td>\n",
       "      <td>5</td>\n",
       "      <td>DODGE</td>\n",
       "      <td>1500 RAM PICKUP 2WD</td>\n",
       "      <td>ST</td>\n",
       "      <td>QUAD CAB 4.7L SLT</td>\n",
       "      <td>...</td>\n",
       "      <td>11374.0</td>\n",
       "      <td>12791.0</td>\n",
       "      <td>NaN</td>\n",
       "      <td>NaN</td>\n",
       "      <td>19638</td>\n",
       "      <td>33619</td>\n",
       "      <td>FL</td>\n",
       "      <td>7600.0</td>\n",
       "      <td>0</td>\n",
       "      <td>1053</td>\n",
       "    </tr>\n",
       "    <tr>\n",
       "      <th>2</th>\n",
       "      <td>3</td>\n",
       "      <td>0</td>\n",
       "      <td>12/7/2009</td>\n",
       "      <td>ADESA</td>\n",
       "      <td>2005</td>\n",
       "      <td>4</td>\n",
       "      <td>DODGE</td>\n",
       "      <td>STRATUS V6</td>\n",
       "      <td>SXT</td>\n",
       "      <td>4D SEDAN SXT FFV</td>\n",
       "      <td>...</td>\n",
       "      <td>7146.0</td>\n",
       "      <td>8702.0</td>\n",
       "      <td>NaN</td>\n",
       "      <td>NaN</td>\n",
       "      <td>19638</td>\n",
       "      <td>33619</td>\n",
       "      <td>FL</td>\n",
       "      <td>4900.0</td>\n",
       "      <td>0</td>\n",
       "      <td>1389</td>\n",
       "    </tr>\n",
       "  </tbody>\n",
       "</table>\n",
       "<p>3 rows × 34 columns</p>\n",
       "</div>"
      ],
      "text/plain": [
       "   RefId  IsBadBuy  PurchDate Auction  VehYear  VehicleAge   Make  \\\n",
       "0      1         0  12/7/2009   ADESA     2006           3  MAZDA   \n",
       "1      2         0  12/7/2009   ADESA     2004           5  DODGE   \n",
       "2      3         0  12/7/2009   ADESA     2005           4  DODGE   \n",
       "\n",
       "                 Model Trim           SubModel  ...  \\\n",
       "0               MAZDA3    i         4D SEDAN I  ...   \n",
       "1  1500 RAM PICKUP 2WD   ST  QUAD CAB 4.7L SLT  ...   \n",
       "2           STRATUS V6  SXT   4D SEDAN SXT FFV  ...   \n",
       "\n",
       "  MMRCurrentRetailAveragePrice MMRCurrentRetailCleanPrice  PRIMEUNIT AUCGUART  \\\n",
       "0                      11597.0                    12409.0        NaN      NaN   \n",
       "1                      11374.0                    12791.0        NaN      NaN   \n",
       "2                       7146.0                     8702.0        NaN      NaN   \n",
       "\n",
       "   BYRNO VNZIP1 VNST VehBCost  IsOnlineSale  WarrantyCost  \n",
       "0  21973  33619   FL   7100.0             0          1113  \n",
       "1  19638  33619   FL   7600.0             0          1053  \n",
       "2  19638  33619   FL   4900.0             0          1389  \n",
       "\n",
       "[3 rows x 34 columns]"
      ]
     },
     "execution_count": 403,
     "metadata": {},
     "output_type": "execute_result"
    }
   ],
   "source": [
    "data.head(3)"
   ]
  },
  {
   "cell_type": "code",
   "execution_count": 383,
   "id": "753dec85",
   "metadata": {},
   "outputs": [],
   "source": [
    "X = data.drop('IsBadBuy', axis=1, inplace=False)\n",
    "# X = data.drop('Class', axis=1, inplace=False)"
   ]
  },
  {
   "cell_type": "code",
   "execution_count": 384,
   "id": "990fb2fc",
   "metadata": {},
   "outputs": [],
   "source": [
    "y = data['IsBadBuy']\n",
    "# y = data['Class']"
   ]
  },
  {
   "cell_type": "markdown",
   "id": "c99bdd1b",
   "metadata": {},
   "source": [
    "Getting categorical variables"
   ]
  },
  {
   "cell_type": "code",
   "execution_count": 385,
   "id": "0dec7311",
   "metadata": {},
   "outputs": [],
   "source": [
    "cat_cols = []\n",
    "for i in X.columns:\n",
    "    tpe = X[i].dtype\n",
    "    if tpe not in [\"float64\", \"int64\"] and tpe == \"object\":\n",
    "        cat_cols.append(i)"
   ]
  },
  {
   "cell_type": "code",
   "execution_count": 387,
   "id": "0075c5ff",
   "metadata": {},
   "outputs": [],
   "source": [
    "# encoding variables"
   ]
  },
  {
   "cell_type": "code",
   "execution_count": 402,
   "id": "a8ee0025",
   "metadata": {},
   "outputs": [],
   "source": [
    "trans = [(i+\"_OHE\", OneHotEncoder(handle_unknown='ignore'), [i]) for i in cat_cols]"
   ]
  },
  {
   "cell_type": "code",
   "execution_count": 389,
   "id": "fa919df7",
   "metadata": {},
   "outputs": [],
   "source": [
    "cols_w_null=X.columns[X.isnull().any()]"
   ]
  },
  {
   "cell_type": "code",
   "execution_count": 390,
   "id": "a197a6fc",
   "metadata": {},
   "outputs": [],
   "source": [
    "num_impute_cols=[]\n",
    "cat_impute_cols=[]\n",
    "for i in cols_w_null:\n",
    "    if X[i].dtype == 'object':\n",
    "        cat_impute_cols.append(i)\n",
    "    else:\n",
    "        num_impute_cols.append(i)"
   ]
  },
  {
   "cell_type": "code",
   "execution_count": 391,
   "id": "6f7f1fef",
   "metadata": {},
   "outputs": [],
   "source": [
    "cols_w_null\n",
    "num_imputer = [(i, SimpleImputer(strategy='mean'), [i]) for i in num_impute_cols]\n",
    "cat_imputer = [(i, SimpleImputer(strategy='most_frequent'), [i]) for i in cat_impute_cols]\n"
   ]
  },
  {
   "cell_type": "code",
   "execution_count": 392,
   "id": "68a696f2",
   "metadata": {},
   "outputs": [],
   "source": [
    "if len(cat_imputer)> 0:\n",
    "    cat_imp = SimpleImputer(missing_values=np.nan, strategy='most_frequent')\n",
    "    X[cat_impute_cols] = pd.DataFrame(cat_imp.fit_transform(X[cat_impute_cols]),\n",
    "                 columns = cat_imp.get_feature_names_out())\n",
    "if len(num_imputer)> 0:\n",
    "    num_imp = SimpleImputer(missing_values=np.nan, strategy='mean')\n",
    "    X[num_impute_cols] = pd.DataFrame(num_imp.fit_transform(X[num_impute_cols]),\n",
    "                 columns = num_imp.get_feature_names_out())"
   ]
  },
  {
   "cell_type": "code",
   "execution_count": 393,
   "id": "57457625",
   "metadata": {},
   "outputs": [],
   "source": [
    "# Create the column transformer\n",
    "transformer2 = ColumnTransformer(transformers=                                \n",
    "                                trans\n",
    "                                , remainder='passthrough',\n",
    "                                 verbose_feature_names_out=True\n",
    "                               )\n",
    "# Fit the transformer to the data and transform the data\n",
    "one_hot_data = transformer2.fit_transform(X)"
   ]
  },
  {
   "cell_type": "code",
   "execution_count": 394,
   "id": "2cb9db0b",
   "metadata": {},
   "outputs": [],
   "source": [
    "ohe_data = pd.DataFrame(one_hot_data.todense(), columns=transformer2.get_feature_names_out())"
   ]
  },
  {
   "cell_type": "code",
   "execution_count": 395,
   "id": "e2534b96",
   "metadata": {},
   "outputs": [
    {
     "data": {
      "text/html": [
       "<div>\n",
       "<style scoped>\n",
       "    .dataframe tbody tr th:only-of-type {\n",
       "        vertical-align: middle;\n",
       "    }\n",
       "\n",
       "    .dataframe tbody tr th {\n",
       "        vertical-align: top;\n",
       "    }\n",
       "\n",
       "    .dataframe thead th {\n",
       "        text-align: right;\n",
       "    }\n",
       "</style>\n",
       "<table border=\"1\" class=\"dataframe\">\n",
       "  <thead>\n",
       "    <tr style=\"text-align: right;\">\n",
       "      <th></th>\n",
       "      <th>PurchDate_OHE__PurchDate_1/10/2010</th>\n",
       "      <th>PurchDate_OHE__PurchDate_1/11/2010</th>\n",
       "      <th>PurchDate_OHE__PurchDate_1/12/2009</th>\n",
       "      <th>PurchDate_OHE__PurchDate_1/12/2010</th>\n",
       "      <th>PurchDate_OHE__PurchDate_1/13/2009</th>\n",
       "      <th>PurchDate_OHE__PurchDate_1/13/2010</th>\n",
       "      <th>PurchDate_OHE__PurchDate_1/14/2009</th>\n",
       "      <th>PurchDate_OHE__PurchDate_1/14/2010</th>\n",
       "      <th>PurchDate_OHE__PurchDate_1/15/2009</th>\n",
       "      <th>PurchDate_OHE__PurchDate_1/15/2010</th>\n",
       "      <th>...</th>\n",
       "      <th>remainder__MMRAcquisitonRetailCleanPrice</th>\n",
       "      <th>remainder__MMRCurrentAuctionAveragePrice</th>\n",
       "      <th>remainder__MMRCurrentAuctionCleanPrice</th>\n",
       "      <th>remainder__MMRCurrentRetailAveragePrice</th>\n",
       "      <th>remainder__MMRCurrentRetailCleanPrice</th>\n",
       "      <th>remainder__BYRNO</th>\n",
       "      <th>remainder__VNZIP1</th>\n",
       "      <th>remainder__VehBCost</th>\n",
       "      <th>remainder__IsOnlineSale</th>\n",
       "      <th>remainder__WarrantyCost</th>\n",
       "    </tr>\n",
       "  </thead>\n",
       "  <tbody>\n",
       "    <tr>\n",
       "      <th>0</th>\n",
       "      <td>0.0</td>\n",
       "      <td>0.0</td>\n",
       "      <td>0.0</td>\n",
       "      <td>0.0</td>\n",
       "      <td>0.0</td>\n",
       "      <td>0.0</td>\n",
       "      <td>0.0</td>\n",
       "      <td>0.0</td>\n",
       "      <td>0.0</td>\n",
       "      <td>0.0</td>\n",
       "      <td>...</td>\n",
       "      <td>13600.0</td>\n",
       "      <td>7451.0</td>\n",
       "      <td>8552.0</td>\n",
       "      <td>11597.0</td>\n",
       "      <td>12409.0</td>\n",
       "      <td>21973.0</td>\n",
       "      <td>33619.0</td>\n",
       "      <td>7100.0</td>\n",
       "      <td>0.0</td>\n",
       "      <td>1113.0</td>\n",
       "    </tr>\n",
       "    <tr>\n",
       "      <th>1</th>\n",
       "      <td>0.0</td>\n",
       "      <td>0.0</td>\n",
       "      <td>0.0</td>\n",
       "      <td>0.0</td>\n",
       "      <td>0.0</td>\n",
       "      <td>0.0</td>\n",
       "      <td>0.0</td>\n",
       "      <td>0.0</td>\n",
       "      <td>0.0</td>\n",
       "      <td>0.0</td>\n",
       "      <td>...</td>\n",
       "      <td>12572.0</td>\n",
       "      <td>7456.0</td>\n",
       "      <td>9222.0</td>\n",
       "      <td>11374.0</td>\n",
       "      <td>12791.0</td>\n",
       "      <td>19638.0</td>\n",
       "      <td>33619.0</td>\n",
       "      <td>7600.0</td>\n",
       "      <td>0.0</td>\n",
       "      <td>1053.0</td>\n",
       "    </tr>\n",
       "    <tr>\n",
       "      <th>2</th>\n",
       "      <td>0.0</td>\n",
       "      <td>0.0</td>\n",
       "      <td>0.0</td>\n",
       "      <td>0.0</td>\n",
       "      <td>0.0</td>\n",
       "      <td>0.0</td>\n",
       "      <td>0.0</td>\n",
       "      <td>0.0</td>\n",
       "      <td>0.0</td>\n",
       "      <td>0.0</td>\n",
       "      <td>...</td>\n",
       "      <td>8457.0</td>\n",
       "      <td>4035.0</td>\n",
       "      <td>5557.0</td>\n",
       "      <td>7146.0</td>\n",
       "      <td>8702.0</td>\n",
       "      <td>19638.0</td>\n",
       "      <td>33619.0</td>\n",
       "      <td>4900.0</td>\n",
       "      <td>0.0</td>\n",
       "      <td>1389.0</td>\n",
       "    </tr>\n",
       "    <tr>\n",
       "      <th>3</th>\n",
       "      <td>0.0</td>\n",
       "      <td>0.0</td>\n",
       "      <td>0.0</td>\n",
       "      <td>0.0</td>\n",
       "      <td>0.0</td>\n",
       "      <td>0.0</td>\n",
       "      <td>0.0</td>\n",
       "      <td>0.0</td>\n",
       "      <td>0.0</td>\n",
       "      <td>0.0</td>\n",
       "      <td>...</td>\n",
       "      <td>5690.0</td>\n",
       "      <td>1844.0</td>\n",
       "      <td>2646.0</td>\n",
       "      <td>4375.0</td>\n",
       "      <td>5518.0</td>\n",
       "      <td>19638.0</td>\n",
       "      <td>33619.0</td>\n",
       "      <td>4100.0</td>\n",
       "      <td>0.0</td>\n",
       "      <td>630.0</td>\n",
       "    </tr>\n",
       "    <tr>\n",
       "      <th>4</th>\n",
       "      <td>0.0</td>\n",
       "      <td>0.0</td>\n",
       "      <td>0.0</td>\n",
       "      <td>0.0</td>\n",
       "      <td>0.0</td>\n",
       "      <td>0.0</td>\n",
       "      <td>0.0</td>\n",
       "      <td>0.0</td>\n",
       "      <td>0.0</td>\n",
       "      <td>0.0</td>\n",
       "      <td>...</td>\n",
       "      <td>8707.0</td>\n",
       "      <td>3247.0</td>\n",
       "      <td>4384.0</td>\n",
       "      <td>6739.0</td>\n",
       "      <td>7911.0</td>\n",
       "      <td>19638.0</td>\n",
       "      <td>33619.0</td>\n",
       "      <td>4000.0</td>\n",
       "      <td>0.0</td>\n",
       "      <td>1020.0</td>\n",
       "    </tr>\n",
       "  </tbody>\n",
       "</table>\n",
       "<p>5 rows × 2714 columns</p>\n",
       "</div>"
      ],
      "text/plain": [
       "   PurchDate_OHE__PurchDate_1/10/2010  PurchDate_OHE__PurchDate_1/11/2010  \\\n",
       "0                                 0.0                                 0.0   \n",
       "1                                 0.0                                 0.0   \n",
       "2                                 0.0                                 0.0   \n",
       "3                                 0.0                                 0.0   \n",
       "4                                 0.0                                 0.0   \n",
       "\n",
       "   PurchDate_OHE__PurchDate_1/12/2009  PurchDate_OHE__PurchDate_1/12/2010  \\\n",
       "0                                 0.0                                 0.0   \n",
       "1                                 0.0                                 0.0   \n",
       "2                                 0.0                                 0.0   \n",
       "3                                 0.0                                 0.0   \n",
       "4                                 0.0                                 0.0   \n",
       "\n",
       "   PurchDate_OHE__PurchDate_1/13/2009  PurchDate_OHE__PurchDate_1/13/2010  \\\n",
       "0                                 0.0                                 0.0   \n",
       "1                                 0.0                                 0.0   \n",
       "2                                 0.0                                 0.0   \n",
       "3                                 0.0                                 0.0   \n",
       "4                                 0.0                                 0.0   \n",
       "\n",
       "   PurchDate_OHE__PurchDate_1/14/2009  PurchDate_OHE__PurchDate_1/14/2010  \\\n",
       "0                                 0.0                                 0.0   \n",
       "1                                 0.0                                 0.0   \n",
       "2                                 0.0                                 0.0   \n",
       "3                                 0.0                                 0.0   \n",
       "4                                 0.0                                 0.0   \n",
       "\n",
       "   PurchDate_OHE__PurchDate_1/15/2009  PurchDate_OHE__PurchDate_1/15/2010  \\\n",
       "0                                 0.0                                 0.0   \n",
       "1                                 0.0                                 0.0   \n",
       "2                                 0.0                                 0.0   \n",
       "3                                 0.0                                 0.0   \n",
       "4                                 0.0                                 0.0   \n",
       "\n",
       "   ...  remainder__MMRAcquisitonRetailCleanPrice  \\\n",
       "0  ...                                   13600.0   \n",
       "1  ...                                   12572.0   \n",
       "2  ...                                    8457.0   \n",
       "3  ...                                    5690.0   \n",
       "4  ...                                    8707.0   \n",
       "\n",
       "   remainder__MMRCurrentAuctionAveragePrice  \\\n",
       "0                                    7451.0   \n",
       "1                                    7456.0   \n",
       "2                                    4035.0   \n",
       "3                                    1844.0   \n",
       "4                                    3247.0   \n",
       "\n",
       "   remainder__MMRCurrentAuctionCleanPrice  \\\n",
       "0                                  8552.0   \n",
       "1                                  9222.0   \n",
       "2                                  5557.0   \n",
       "3                                  2646.0   \n",
       "4                                  4384.0   \n",
       "\n",
       "   remainder__MMRCurrentRetailAveragePrice  \\\n",
       "0                                  11597.0   \n",
       "1                                  11374.0   \n",
       "2                                   7146.0   \n",
       "3                                   4375.0   \n",
       "4                                   6739.0   \n",
       "\n",
       "   remainder__MMRCurrentRetailCleanPrice  remainder__BYRNO  remainder__VNZIP1  \\\n",
       "0                                12409.0           21973.0            33619.0   \n",
       "1                                12791.0           19638.0            33619.0   \n",
       "2                                 8702.0           19638.0            33619.0   \n",
       "3                                 5518.0           19638.0            33619.0   \n",
       "4                                 7911.0           19638.0            33619.0   \n",
       "\n",
       "   remainder__VehBCost  remainder__IsOnlineSale  remainder__WarrantyCost  \n",
       "0               7100.0                      0.0                   1113.0  \n",
       "1               7600.0                      0.0                   1053.0  \n",
       "2               4900.0                      0.0                   1389.0  \n",
       "3               4100.0                      0.0                    630.0  \n",
       "4               4000.0                      0.0                   1020.0  \n",
       "\n",
       "[5 rows x 2714 columns]"
      ]
     },
     "execution_count": 395,
     "metadata": {},
     "output_type": "execute_result"
    }
   ],
   "source": [
    "ohe_data.head()"
   ]
  },
  {
   "cell_type": "code",
   "execution_count": 396,
   "id": "0f9434c7",
   "metadata": {},
   "outputs": [],
   "source": [
    "lr = LogisticRegression()"
   ]
  },
  {
   "cell_type": "code",
   "execution_count": 397,
   "id": "d7d0d792",
   "metadata": {},
   "outputs": [
    {
     "name": "stderr",
     "output_type": "stream",
     "text": [
      "/Library/Frameworks/Python.framework/Versions/3.11/lib/python3.11/site-packages/sklearn/linear_model/_logistic.py:458: ConvergenceWarning: lbfgs failed to converge (status=1):\n",
      "STOP: TOTAL NO. of ITERATIONS REACHED LIMIT.\n",
      "\n",
      "Increase the number of iterations (max_iter) or scale the data as shown in:\n",
      "    https://scikit-learn.org/stable/modules/preprocessing.html\n",
      "Please also refer to the documentation for alternative solver options:\n",
      "    https://scikit-learn.org/stable/modules/linear_model.html#logistic-regression\n",
      "  n_iter_i = _check_optimize_result(\n"
     ]
    },
    {
     "data": {
      "text/html": [
       "<style>#sk-container-id-4 {color: black;background-color: white;}#sk-container-id-4 pre{padding: 0;}#sk-container-id-4 div.sk-toggleable {background-color: white;}#sk-container-id-4 label.sk-toggleable__label {cursor: pointer;display: block;width: 100%;margin-bottom: 0;padding: 0.3em;box-sizing: border-box;text-align: center;}#sk-container-id-4 label.sk-toggleable__label-arrow:before {content: \"▸\";float: left;margin-right: 0.25em;color: #696969;}#sk-container-id-4 label.sk-toggleable__label-arrow:hover:before {color: black;}#sk-container-id-4 div.sk-estimator:hover label.sk-toggleable__label-arrow:before {color: black;}#sk-container-id-4 div.sk-toggleable__content {max-height: 0;max-width: 0;overflow: hidden;text-align: left;background-color: #f0f8ff;}#sk-container-id-4 div.sk-toggleable__content pre {margin: 0.2em;color: black;border-radius: 0.25em;background-color: #f0f8ff;}#sk-container-id-4 input.sk-toggleable__control:checked~div.sk-toggleable__content {max-height: 200px;max-width: 100%;overflow: auto;}#sk-container-id-4 input.sk-toggleable__control:checked~label.sk-toggleable__label-arrow:before {content: \"▾\";}#sk-container-id-4 div.sk-estimator input.sk-toggleable__control:checked~label.sk-toggleable__label {background-color: #d4ebff;}#sk-container-id-4 div.sk-label input.sk-toggleable__control:checked~label.sk-toggleable__label {background-color: #d4ebff;}#sk-container-id-4 input.sk-hidden--visually {border: 0;clip: rect(1px 1px 1px 1px);clip: rect(1px, 1px, 1px, 1px);height: 1px;margin: -1px;overflow: hidden;padding: 0;position: absolute;width: 1px;}#sk-container-id-4 div.sk-estimator {font-family: monospace;background-color: #f0f8ff;border: 1px dotted black;border-radius: 0.25em;box-sizing: border-box;margin-bottom: 0.5em;}#sk-container-id-4 div.sk-estimator:hover {background-color: #d4ebff;}#sk-container-id-4 div.sk-parallel-item::after {content: \"\";width: 100%;border-bottom: 1px solid gray;flex-grow: 1;}#sk-container-id-4 div.sk-label:hover label.sk-toggleable__label {background-color: #d4ebff;}#sk-container-id-4 div.sk-serial::before {content: \"\";position: absolute;border-left: 1px solid gray;box-sizing: border-box;top: 0;bottom: 0;left: 50%;z-index: 0;}#sk-container-id-4 div.sk-serial {display: flex;flex-direction: column;align-items: center;background-color: white;padding-right: 0.2em;padding-left: 0.2em;position: relative;}#sk-container-id-4 div.sk-item {position: relative;z-index: 1;}#sk-container-id-4 div.sk-parallel {display: flex;align-items: stretch;justify-content: center;background-color: white;position: relative;}#sk-container-id-4 div.sk-item::before, #sk-container-id-4 div.sk-parallel-item::before {content: \"\";position: absolute;border-left: 1px solid gray;box-sizing: border-box;top: 0;bottom: 0;left: 50%;z-index: -1;}#sk-container-id-4 div.sk-parallel-item {display: flex;flex-direction: column;z-index: 1;position: relative;background-color: white;}#sk-container-id-4 div.sk-parallel-item:first-child::after {align-self: flex-end;width: 50%;}#sk-container-id-4 div.sk-parallel-item:last-child::after {align-self: flex-start;width: 50%;}#sk-container-id-4 div.sk-parallel-item:only-child::after {width: 0;}#sk-container-id-4 div.sk-dashed-wrapped {border: 1px dashed gray;margin: 0 0.4em 0.5em 0.4em;box-sizing: border-box;padding-bottom: 0.4em;background-color: white;}#sk-container-id-4 div.sk-label label {font-family: monospace;font-weight: bold;display: inline-block;line-height: 1.2em;}#sk-container-id-4 div.sk-label-container {text-align: center;}#sk-container-id-4 div.sk-container {/* jupyter's `normalize.less` sets `[hidden] { display: none; }` but bootstrap.min.css set `[hidden] { display: none !important; }` so we also need the `!important` here to be able to override the default hidden behavior on the sphinx rendered scikit-learn.org. See: https://github.com/scikit-learn/scikit-learn/issues/21755 */display: inline-block !important;position: relative;}#sk-container-id-4 div.sk-text-repr-fallback {display: none;}</style><div id=\"sk-container-id-4\" class=\"sk-top-container\"><div class=\"sk-text-repr-fallback\"><pre>LogisticRegression()</pre><b>In a Jupyter environment, please rerun this cell to show the HTML representation or trust the notebook. <br />On GitHub, the HTML representation is unable to render, please try loading this page with nbviewer.org.</b></div><div class=\"sk-container\" hidden><div class=\"sk-item\"><div class=\"sk-estimator sk-toggleable\"><input class=\"sk-toggleable__control sk-hidden--visually\" id=\"sk-estimator-id-4\" type=\"checkbox\" checked><label for=\"sk-estimator-id-4\" class=\"sk-toggleable__label sk-toggleable__label-arrow\">LogisticRegression</label><div class=\"sk-toggleable__content\"><pre>LogisticRegression()</pre></div></div></div></div></div>"
      ],
      "text/plain": [
       "LogisticRegression()"
      ]
     },
     "execution_count": 397,
     "metadata": {},
     "output_type": "execute_result"
    }
   ],
   "source": [
    "lr.fit(ohe_data, y)"
   ]
  },
  {
   "cell_type": "code",
   "execution_count": 398,
   "id": "5a955114",
   "metadata": {},
   "outputs": [],
   "source": [
    "preds = lr.predict(ohe_data)"
   ]
  },
  {
   "cell_type": "code",
   "execution_count": 399,
   "id": "0db12df6",
   "metadata": {},
   "outputs": [
    {
     "data": {
      "text/plain": [
       "array([0, 0, 0, ..., 0, 0, 0])"
      ]
     },
     "execution_count": 399,
     "metadata": {},
     "output_type": "execute_result"
    }
   ],
   "source": [
    "preds"
   ]
  },
  {
   "cell_type": "code",
   "execution_count": 400,
   "id": "4daf126a",
   "metadata": {},
   "outputs": [
    {
     "data": {
      "text/plain": [
       "0.8769987531342915"
      ]
     },
     "execution_count": 400,
     "metadata": {},
     "output_type": "execute_result"
    }
   ],
   "source": [
    "accuracy_score(y, preds)"
   ]
  }
 ],
 "metadata": {
  "kernelspec": {
   "display_name": "Python 3 (ipykernel)",
   "language": "python",
   "name": "python3"
  },
  "language_info": {
   "codemirror_mode": {
    "name": "ipython",
    "version": 3
   },
   "file_extension": ".py",
   "mimetype": "text/x-python",
   "name": "python",
   "nbconvert_exporter": "python",
   "pygments_lexer": "ipython3",
   "version": "3.11.1"
  }
 },
 "nbformat": 4,
 "nbformat_minor": 5
}
