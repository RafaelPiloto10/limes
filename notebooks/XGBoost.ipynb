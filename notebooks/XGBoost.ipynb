{
 "cells": [
  {
   "cell_type": "code",
   "execution_count": 1,
   "id": "0cb3dce3",
   "metadata": {},
   "outputs": [],
   "source": [
    "from xgboost import XGBClassifier\n",
    "from sklearn.ensemble import RandomForestClassifier\n",
    "from sklearn.model_selection import GridSearchCV\n",
    "from sklearn import metrics  \n",
    "from selection import get_balanced_dataset\n",
    "xTrain, xTest, yTrain, yTest = get_balanced_dataset(\"../dataset/training.csv\", True)"
   ]
  },
  {
   "cell_type": "code",
   "execution_count": 6,
   "id": "7f15e3b4",
   "metadata": {},
   "outputs": [
    {
     "data": {
      "text/plain": [
       "0.9706982543640897"
      ]
     },
     "execution_count": 6,
     "metadata": {},
     "output_type": "execute_result"
    }
   ],
   "source": [
    "clf = XGBClassifier(n_estimators = 200, max_depth=3)  \n",
    "clf.fit(xTrain, yTrain[\"IsBadBuy\"].ravel())\n",
    "y_pred = clf.predict(xTest)\n",
    "metrics.accuracy_score(yTest[\"IsBadBuy\"].ravel(), y_pred)"
   ]
  },
  {
   "cell_type": "code",
   "execution_count": 7,
   "id": "37ba8e4e",
   "metadata": {},
   "outputs": [
    {
     "data": {
      "text/plain": [
       "0.9956122526831744"
      ]
     },
     "execution_count": 7,
     "metadata": {},
     "output_type": "execute_result"
    }
   ],
   "source": [
    "from sklearn.metrics import roc_auc_score\n",
    "y_pred = clf.predict_proba(xTest)[:,1]\n",
    "roc_auc_score(yTest[\"IsBadBuy\"], y_pred)"
   ]
  }
 ],
 "metadata": {
  "kernelspec": {
   "display_name": "Python 3 (ipykernel)",
   "language": "python",
   "name": "python3"
  },
  "language_info": {
   "codemirror_mode": {
    "name": "ipython",
    "version": 3
   },
   "file_extension": ".py",
   "mimetype": "text/x-python",
   "name": "python",
   "nbconvert_exporter": "python",
   "pygments_lexer": "ipython3",
   "version": "3.8.13"
  }
 },
 "nbformat": 4,
 "nbformat_minor": 5
}
